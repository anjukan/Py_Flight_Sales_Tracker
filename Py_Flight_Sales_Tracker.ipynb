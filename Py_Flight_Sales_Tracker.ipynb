{
 "cells": [
  {
   "cell_type": "code",
   "execution_count": 1,
   "metadata": {},
   "outputs": [
    {
     "data": {
      "text/html": [
       "<style>.container { width:100% !important; }</style>"
      ],
      "text/plain": [
       "<IPython.core.display.HTML object>"
      ]
     },
     "metadata": {},
     "output_type": "display_data"
    }
   ],
   "source": [
    "# Make notebook full width\n",
    "from IPython.core.display import display, HTML\n",
    "display(HTML(\"<style>.container { width:100% !important; }</style>\"))"
   ]
  },
  {
   "cell_type": "markdown",
   "metadata": {},
   "source": [
    "File Name: Py_Flight_Sales_Tracker  \n",
    "Author: Anjukan Kathirgamanathan  \n",
    "Date: 11/09/2018  \n",
    "This is a python script to scrape the web for the cheapest flight on a route and save flight details to a database tracking sales and the price of the flight over time"
   ]
  },
  {
   "cell_type": "markdown",
   "metadata": {},
   "source": [
    "## Load Libraries"
   ]
  },
  {
   "cell_type": "code",
   "execution_count": 2,
   "metadata": {},
   "outputs": [
    {
     "name": "stderr",
     "output_type": "stream",
     "text": [
      "IOPub data rate exceeded.\n",
      "The notebook server will temporarily stop sending output\n",
      "to the client in order to avoid crashing it.\n",
      "To change this limit, set the config variable\n",
      "`--NotebookApp.iopub_data_rate_limit`.\n"
     ]
    },
    {
     "data": {
      "text/html": [
       "<script>requirejs.config({paths: { 'plotly': ['https://cdn.plot.ly/plotly-latest.min']},});if(!window.Plotly) {{require(['plotly'],function(plotly) {window.Plotly=plotly;});}}</script>"
      ],
      "text/vnd.plotly.v1+html": [
       "<script>requirejs.config({paths: { 'plotly': ['https://cdn.plot.ly/plotly-latest.min']},});if(!window.Plotly) {{require(['plotly'],function(plotly) {window.Plotly=plotly;});}}</script>"
      ]
     },
     "metadata": {},
     "output_type": "display_data"
    }
   ],
   "source": [
    "import schedule\n",
    "\n",
    "import requests\n",
    "\n",
    "from lxml import html\n",
    "\n",
    "from bs4 import BeautifulSoup\n",
    "\n",
    "from collections import OrderedDict\n",
    "\n",
    "import argparse\n",
    "\n",
    "import time\n",
    "\n",
    "import glob\n",
    "import os\n",
    "import json\n",
    "\n",
    "import csv\n",
    "\n",
    "import pandas as pd\n",
    "import numpy as np\n",
    "\n",
    "import matplotlib.pyplot as plt\n",
    "\n",
    "import plotly as py\n",
    "import plotly.graph_objs as go\n",
    "from plotly.offline import download_plotlyjs, init_notebook_mode, plot, iplot\n",
    "\n",
    "py.tools.set_credentials_file(username='', api_key='')\n",
    "\n",
    "py.offline.init_notebook_mode()\n",
    "init_notebook_mode(connected=True)\n",
    "\n",
    "import cufflinks as cf\n",
    "\n",
    "from selenium import webdriver\n",
    "from selenium.webdriver.common.desired_capabilities import DesiredCapabilities\n",
    "from selenium.webdriver.common.by import By\n",
    "from selenium.webdriver.support.ui import WebDriverWait\n",
    "from selenium.webdriver.support import expected_conditions as EC"
   ]
  },
  {
   "cell_type": "code",
   "execution_count": 3,
   "metadata": {
    "collapsed": true
   },
   "outputs": [],
   "source": [
    "# Function that takes in the source location, destination (both 3 letter IATA codes), and the date (in 'YYYY-MM-DD' format) and will scrape flights from Google Flights. Returns a sorted list of flights by price.\n",
    "def google(source,destination,date):\n",
    "    # URL to scrape from taking in user input\n",
    "    url = \"https://www.google.com/flights#flt={0}.{1}.{2};c:EUR;e:1;sd:1;t:f;tt:o\".format(source,destination,date)\n",
    "    dcap = dict(DesiredCapabilities.PHANTOMJS)\n",
    "    dcap[\"phantomjs.page.settings.userAgent\"] = (\"Mozilla/5.0 (Macintosh; Intel Mac OS X 10_12_4) AppleWebKit/537.36 (KHTML, like Gecko) Chrome/57.0.2987.98 Safari/537.36 OPR/44.0.2510.857\")\n",
    "    # Use headless chrome as the webdriver\n",
    "    driver = webdriver.Chrome(desired_capabilities=dcap, service_args=['--ignore-ssl-errors=true','--ssl-protocol=any'])\n",
    "    driver.get(url)\n",
    "    print(url)\n",
    "    # Wait for page to load\n",
    "    wait = WebDriverWait(driver, 10)\n",
    "    wait\n",
    "    # Save a screenshot of the page being scraped\n",
    "    driver.save_screenshot(r'image.png')\n",
    "    s = BeautifulSoup(driver.page_source, \"lxml\")\n",
    "    pretty_s = s.prettify()\n",
    "    #print(pretty_s)\n",
    "    driver.close()\n",
    "    # Find the html of interest with the following tag\n",
    "    best_price_tags = s.findAll('div', 'gws-flights-results__itinerary-card-summary gws-flights-results__result-item-summary gws-flights__flex-box')\n",
    "    best_prices = []\n",
    "    for tag in best_price_tags:\n",
    "        best_prices.append(tag.text)\n",
    "        #print(best_prices)\n",
    "\n",
    "    s2 = \"From \"\n",
    "    s3 = \"Trip duration: \"\n",
    "    s4 = \"Departure time: \"\n",
    "    s5 = \"Arrival time: \"\n",
    "    s6 = \"flight by and\"\n",
    "\n",
    "    flight_info  = OrderedDict() \n",
    "    lists=[]\n",
    "    \n",
    "    # Create a list including the following details for each flight\n",
    "    for x in best_prices:\n",
    "        price = x[x.index(s2) + len(s2) + 1:].split('.')[0].replace(',','')\n",
    "        duration = x[x.index(s3) + len(s3):].split('.')[0]\n",
    "        dep_time = x[x.index(s4) + len(s4):].split('.')[0]\n",
    "        arr_time = x[x.index(s5) + len(s5):].split('.')[0]\n",
    "        airline = x[x.index(s6) + len(s6):].split('.')[0]\n",
    "\n",
    "        flight_info={'ticket price':price,\n",
    "                'departure':source,\n",
    "                'arrival':destination,\n",
    "                'flight duration':duration,\n",
    "                'airline':airline,\n",
    "                 'departure date': date,\n",
    "                'departure time':dep_time,\n",
    "                'arrival time':arr_time,\n",
    "                'lookup date': pd.to_datetime('today').strftime(\"%d/%m/%Y\") \n",
    "                }\n",
    "        lists.append(flight_info)\n",
    "    \n",
    "    sortedlist = sorted(lists, key=lambda k: float(k['ticket price']),reverse=False)\n",
    "\n",
    "    labels = ['ticket price','departure','arrival','flight duration','airline','departure date','departure time','arrival time','lookup date']\n",
    "    \n",
    "    # Create a dataframe from the list\n",
    "    df = pd.DataFrame.from_records(sortedlist, columns=labels)\n",
    "    \n",
    "    # Write the scraped data to the csv database\n",
    "    # Extract data from existing records to ensure that they are not overwritten\n",
    "    df_existing = pd.read_csv(\"flight_data.csv\", sep=',')\n",
    "\n",
    "    df_new = pd.concat([df_existing, df], ignore_index=True)\n",
    "\n",
    "    #print(df_new)\n",
    "\n",
    "    # As a safety check, remove any rows with NaN\n",
    "    df_new.dropna(axis=0)\n",
    "\n",
    "    # Save data to csv\n",
    "    df_new.to_csv('flight_data.csv', sep=',', header=True, index=False)\n",
    "    \n",
    "    return df"
   ]
  },
  {
   "cell_type": "code",
   "execution_count": 4,
   "metadata": {},
   "outputs": [
    {
     "name": "stdout",
     "output_type": "stream",
     "text": [
      "https://www.google.com/flights#flt=DUB.SGN.2018-12-16;c:EUR;e:1;sd:1;t:f;tt:o\n",
      "https://www.google.com/flights#flt=DUB.SGN.2018-12-15;c:EUR;e:1;sd:1;t:f;tt:o\n",
      "https://www.google.com/flights#flt=CMB.DUB.2019-01-18;c:EUR;e:1;sd:1;t:f;tt:o\n",
      "https://www.google.com/flights#flt=CMB.DUB.2019-01-19;c:EUR;e:1;sd:1;t:f;tt:o\n",
      "https://www.google.com/flights#flt=CMB.DUB.2019-01-20;c:EUR;e:1;sd:1;t:f;tt:o\n"
     ]
    },
    {
     "ename": "KeyboardInterrupt",
     "evalue": "",
     "output_type": "error",
     "traceback": [
      "\u001b[1;31m---------------------------------------------------------------------------\u001b[0m",
      "\u001b[1;31mKeyboardInterrupt\u001b[0m                         Traceback (most recent call last)",
      "\u001b[1;32m<ipython-input-4-a945a16ae9c6>\u001b[0m in \u001b[0;36m<module>\u001b[1;34m()\u001b[0m\n\u001b[0;32m      7\u001b[0m \u001b[1;32mwhile\u001b[0m \u001b[1;32mTrue\u001b[0m\u001b[1;33m:\u001b[0m\u001b[1;33m\u001b[0m\u001b[0m\n\u001b[0;32m      8\u001b[0m     \u001b[0mschedule\u001b[0m\u001b[1;33m.\u001b[0m\u001b[0mrun_pending\u001b[0m\u001b[1;33m(\u001b[0m\u001b[1;33m)\u001b[0m\u001b[1;33m\u001b[0m\u001b[0m\n\u001b[1;32m----> 9\u001b[1;33m     \u001b[0mtime\u001b[0m\u001b[1;33m.\u001b[0m\u001b[0msleep\u001b[0m\u001b[1;33m(\u001b[0m\u001b[1;36m60\u001b[0m\u001b[1;33m)\u001b[0m \u001b[1;31m# wait one minute\u001b[0m\u001b[1;33m\u001b[0m\u001b[0m\n\u001b[0m",
      "\u001b[1;31mKeyboardInterrupt\u001b[0m: "
     ]
    }
   ],
   "source": [
    "schedule.every().day.at(\"12:00\").do(google,'DUB','SGN','2018-12-16')\n",
    "schedule.every().day.at(\"12:02\").do(google,'DUB','SGN','2018-12-15')\n",
    "schedule.every().day.at(\"12:04\").do(google,'CMB','DUB','2019-01-18')\n",
    "schedule.every().day.at(\"12:06\").do(google,'CMB','DUB','2019-01-19')\n",
    "schedule.every().day.at(\"12:08\").do(google,'CMB','DUB','2019-01-20')\n",
    "\n",
    "while True:\n",
    "    schedule.run_pending()\n",
    "    time.sleep(60) # wait one minute"
   ]
  },
  {
   "cell_type": "markdown",
   "metadata": {},
   "source": [
    "## Plot Evolution"
   ]
  },
  {
   "cell_type": "code",
   "execution_count": null,
   "metadata": {
    "collapsed": true
   },
   "outputs": [],
   "source": [
    "# Plot the prices as they evolve over time\n",
    "\n",
    "# Load the data\n",
    "df_plot = pd.read_csv(\"flight_data.csv\", sep=',')\n",
    "\n",
    "# Co-erce date columns to be in a consistent format\n",
    "df_plot['departure date'] = pd.to_datetime(df_plot['departure date']).dt.strftime('%d/%m/%Y')\n",
    "df_plot['departure time'] = pd.to_datetime(df_plot['departure time']).dt.strftime('%H:%M')\n",
    "df_plot['lookup date'] = pd.to_datetime(df_plot['lookup date']).dt.strftime('%d/%m/%Y')\n",
    "\n",
    "# Need a new column to identify each flight (in the absence of flight numbers)\n",
    "df_plot['flight identifier'] = df_plot['airline'] + '*' + df_plot['departure date'] + '*' + df_plot['departure time']\n",
    "\n",
    "df_plot['flight routing'] = df_plot['departure'] + '-' + df_plot['arrival']\n",
    "\n",
    "# Drop the columns that are now redundant\n",
    "df_plot.drop(['departure', 'arrival', 'airline', 'arrival time', 'departure time', 'flight duration', 'departure date'], axis=1, inplace=True)\n",
    "\n",
    "# Change ticket pricec column to float\n",
    "df_plot['ticket price'] = pd.to_numeric(df_plot['ticket price']).astype(np.int64)\n",
    "\n",
    "# Remove any excessive priced options\n",
    "df_plot = df_plot[df_plot['ticket price'] < 1000]\n",
    "\n",
    "# Set index\n",
    "df_plot.set_index('lookup date')\n",
    "\n",
    "# Look at DUB-SGN only for now\n",
    "df_plot = df_plot.loc[df_plot['flight routing'] == 'CMB-DUB']\n",
    "\n",
    "#print(df_plot)\n",
    "\n",
    "df_plot2 = df_plot.pivot_table(index = 'lookup date', columns='flight identifier', values='ticket price')\n",
    "\n",
    "#print(df_plot2)\n",
    "\n",
    "df_plot2.plot(kind = 'line', figsize=(12,12))\n",
    "# Put a legend to the right of the current axis\n",
    "ax = plt.subplot(111)\n",
    "ax.legend(loc='center left', bbox_to_anchor=(1, 0.5))\n",
    "plt.title('Evolution of Flights Prices between CMB and DUB')\n",
    "plt.ylabel('Price (EUROS)')\n",
    "plt.show()"
   ]
  },
  {
   "cell_type": "code",
   "execution_count": 22,
   "metadata": {},
   "outputs": [
    {
     "name": "stdout",
     "output_type": "stream",
     "text": [
      "High five! You successfully sent some data to your account on plotly. View your plot in your browser at https://plot.ly/~akat022/0 or inside your plot.ly account where it is named 'plot from API'\n"
     ]
    },
    {
     "data": {
      "text/plain": [
       "'https://plot.ly/~akat022/0'"
      ]
     },
     "execution_count": 22,
     "metadata": {},
     "output_type": "execute_result"
    }
   ],
   "source": [
    "# Produce a plotly plot\n",
    "cf.set_config_file(offline=False, world_readable=True, theme='ggplot')\n",
    "\n",
    "fig = df_plot2.iplot(kind='scatter', asFigure=True)\n",
    "py.plotly.plot(fig)"
   ]
  }
 ],
 "metadata": {
  "kernelspec": {
   "display_name": "Python 3",
   "language": "python",
   "name": "python3"
  },
  "language_info": {
   "codemirror_mode": {
    "name": "ipython",
    "version": 3
   },
   "file_extension": ".py",
   "mimetype": "text/x-python",
   "name": "python",
   "nbconvert_exporter": "python",
   "pygments_lexer": "ipython3",
   "version": "3.4.3"
  }
 },
 "nbformat": 4,
 "nbformat_minor": 2
}
